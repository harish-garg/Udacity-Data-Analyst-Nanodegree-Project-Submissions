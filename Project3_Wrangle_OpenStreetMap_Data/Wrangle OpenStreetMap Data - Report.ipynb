{
 "cells": [
  {
   "cell_type": "markdown",
   "metadata": {},
   "source": [
    "## Project Overview ## "
   ]
  },
  {
   "cell_type": "markdown",
   "metadata": {},
   "source": [
    "#### Name of the project ####: \n",
    "Wrangle OpenStreepMap Data for a chosen map area  \n",
    "\n",
    "#### Purpose of the project ####:\n",
    "This project is created for Udacity Data Analyst NanoDegree\n",
    "\n",
    "#### Created by ####\n",
    "Harish Garg(harish.garg@gmail.com)\n",
    "\n",
    "#### Created date ####\n",
    "Oct 244h, 2016"
   ]
  },
  {
   "cell_type": "markdown",
   "metadata": {},
   "source": [
    "## Problems encountered in the map ##"
   ]
  },
  {
   "cell_type": "markdown",
   "metadata": {},
   "source": [
    "## Overview of the Data##"
   ]
  },
  {
   "cell_type": "markdown",
   "metadata": {},
   "source": [
    "size of the file(archived): 38M\n",
    "size of the file(unarchived): 610M\n",
    "number of unique users:\n",
    "number of nodes and ways:\n",
    "number of chosen type of nodes, like cafes, shops etc."
   ]
  },
  {
   "cell_type": "markdown",
   "metadata": {},
   "source": [
    "## Other ideas about the datasets ##"
   ]
  }
 ],
 "metadata": {
  "kernelspec": {
   "display_name": "Python 2",
   "language": "python",
   "name": "python2"
  },
  "language_info": {
   "codemirror_mode": {
    "name": "ipython",
    "version": 2
   },
   "file_extension": ".py",
   "mimetype": "text/x-python",
   "name": "python",
   "nbconvert_exporter": "python",
   "pygments_lexer": "ipython2",
   "version": "2.7.12"
  }
 },
 "nbformat": 4,
 "nbformat_minor": 0
}

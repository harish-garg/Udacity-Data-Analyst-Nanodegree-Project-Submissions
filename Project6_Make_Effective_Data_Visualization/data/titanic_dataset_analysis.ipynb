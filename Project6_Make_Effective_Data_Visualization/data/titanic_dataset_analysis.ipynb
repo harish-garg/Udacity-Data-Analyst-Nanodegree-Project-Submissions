{
 "cells": [
  {
   "cell_type": "markdown",
   "metadata": {},
   "source": [
    "# Project 2 of Udacity Data Analyst Nanodegree\n",
    "\n",
    "** Analyzing Titanic passenger survival dataset **\n",
    "\n",
    "In this ipython notebook, we are going to analyze the Titanic Passenger dataset as provided by udacity.\n",
    "\n",
    "From [Wikipedia](https://en.wikipedia.org/wiki/RMS_Titanic)...\n",
    ">RMS Titanic was a British passenger liner that sank in the North Atlantic Ocean in the early morning of 15 April 1912, after colliding with an iceberg during her maiden voyage from Southampton to New York City. Of the 2,224 passengers and crew aboard, more than 1,500 died in the sinking, making it one of the deadliest commercial peacetime maritime disasters in modern history.\n",
    "\n",
    "The Question we are going to answer is...\n",
    "\n",
    "What are the charcteristics of passengers who survived compared to the ones who didnt?\n"
   ]
  },
  {
   "cell_type": "code",
   "execution_count": 1,
   "metadata": {
    "collapsed": true
   },
   "outputs": [],
   "source": [
    "# Let's import the necessary modules\n",
    "%matplotlib inline\n",
    "import numpy as np\n",
    "import pandas as pd\n",
    "import matplotlib.pyplot as plt\n",
    "import seaborn as sns"
   ]
  },
  {
   "cell_type": "code",
   "execution_count": 2,
   "metadata": {
    "collapsed": false
   },
   "outputs": [],
   "source": [
    "# Read the csv dataset file into a pandas DataFrame. \n",
    "titanic_df = pd.read_csv('titanic_data.csv')"
   ]
  },
  {
   "cell_type": "code",
   "execution_count": 3,
   "metadata": {
    "collapsed": false
   },
   "outputs": [
    {
     "data": {
      "text/html": [
       "<div>\n",
       "<table border=\"1\" class=\"dataframe\">\n",
       "  <thead>\n",
       "    <tr style=\"text-align: right;\">\n",
       "      <th></th>\n",
       "      <th>PassengerId</th>\n",
       "      <th>Survived</th>\n",
       "      <th>Pclass</th>\n",
       "      <th>Name</th>\n",
       "      <th>Sex</th>\n",
       "      <th>Age</th>\n",
       "      <th>SibSp</th>\n",
       "      <th>Parch</th>\n",
       "      <th>Ticket</th>\n",
       "      <th>Fare</th>\n",
       "      <th>Cabin</th>\n",
       "      <th>Embarked</th>\n",
       "    </tr>\n",
       "  </thead>\n",
       "  <tbody>\n",
       "    <tr>\n",
       "      <th>0</th>\n",
       "      <td>1</td>\n",
       "      <td>0</td>\n",
       "      <td>3</td>\n",
       "      <td>Braund, Mr. Owen Harris</td>\n",
       "      <td>male</td>\n",
       "      <td>22.0</td>\n",
       "      <td>1</td>\n",
       "      <td>0</td>\n",
       "      <td>A/5 21171</td>\n",
       "      <td>7.2500</td>\n",
       "      <td>NaN</td>\n",
       "      <td>S</td>\n",
       "    </tr>\n",
       "    <tr>\n",
       "      <th>1</th>\n",
       "      <td>2</td>\n",
       "      <td>1</td>\n",
       "      <td>1</td>\n",
       "      <td>Cumings, Mrs. John Bradley (Florence Briggs Th...</td>\n",
       "      <td>female</td>\n",
       "      <td>38.0</td>\n",
       "      <td>1</td>\n",
       "      <td>0</td>\n",
       "      <td>PC 17599</td>\n",
       "      <td>71.2833</td>\n",
       "      <td>C85</td>\n",
       "      <td>C</td>\n",
       "    </tr>\n",
       "    <tr>\n",
       "      <th>2</th>\n",
       "      <td>3</td>\n",
       "      <td>1</td>\n",
       "      <td>3</td>\n",
       "      <td>Heikkinen, Miss. Laina</td>\n",
       "      <td>female</td>\n",
       "      <td>26.0</td>\n",
       "      <td>0</td>\n",
       "      <td>0</td>\n",
       "      <td>STON/O2. 3101282</td>\n",
       "      <td>7.9250</td>\n",
       "      <td>NaN</td>\n",
       "      <td>S</td>\n",
       "    </tr>\n",
       "    <tr>\n",
       "      <th>3</th>\n",
       "      <td>4</td>\n",
       "      <td>1</td>\n",
       "      <td>1</td>\n",
       "      <td>Futrelle, Mrs. Jacques Heath (Lily May Peel)</td>\n",
       "      <td>female</td>\n",
       "      <td>35.0</td>\n",
       "      <td>1</td>\n",
       "      <td>0</td>\n",
       "      <td>113803</td>\n",
       "      <td>53.1000</td>\n",
       "      <td>C123</td>\n",
       "      <td>S</td>\n",
       "    </tr>\n",
       "    <tr>\n",
       "      <th>4</th>\n",
       "      <td>5</td>\n",
       "      <td>0</td>\n",
       "      <td>3</td>\n",
       "      <td>Allen, Mr. William Henry</td>\n",
       "      <td>male</td>\n",
       "      <td>35.0</td>\n",
       "      <td>0</td>\n",
       "      <td>0</td>\n",
       "      <td>373450</td>\n",
       "      <td>8.0500</td>\n",
       "      <td>NaN</td>\n",
       "      <td>S</td>\n",
       "    </tr>\n",
       "  </tbody>\n",
       "</table>\n",
       "</div>"
      ],
      "text/plain": [
       "   PassengerId  Survived  Pclass  \\\n",
       "0            1         0       3   \n",
       "1            2         1       1   \n",
       "2            3         1       3   \n",
       "3            4         1       1   \n",
       "4            5         0       3   \n",
       "\n",
       "                                                Name     Sex   Age  SibSp  \\\n",
       "0                            Braund, Mr. Owen Harris    male  22.0      1   \n",
       "1  Cumings, Mrs. John Bradley (Florence Briggs Th...  female  38.0      1   \n",
       "2                             Heikkinen, Miss. Laina  female  26.0      0   \n",
       "3       Futrelle, Mrs. Jacques Heath (Lily May Peel)  female  35.0      1   \n",
       "4                           Allen, Mr. William Henry    male  35.0      0   \n",
       "\n",
       "   Parch            Ticket     Fare Cabin Embarked  \n",
       "0      0         A/5 21171   7.2500   NaN        S  \n",
       "1      0          PC 17599  71.2833   C85        C  \n",
       "2      0  STON/O2. 3101282   7.9250   NaN        S  \n",
       "3      0            113803  53.1000  C123        S  \n",
       "4      0            373450   8.0500   NaN        S  "
      ]
     },
     "execution_count": 3,
     "metadata": {},
     "output_type": "execute_result"
    }
   ],
   "source": [
    "# Let's look at some of the rows from the data to get some sense of what we are dealing with.\n",
    "titanic_df.head()"
   ]
  },
  {
   "cell_type": "code",
   "execution_count": 4,
   "metadata": {
    "collapsed": false
   },
   "outputs": [
    {
     "data": {
      "text/html": [
       "<div>\n",
       "<table border=\"1\" class=\"dataframe\">\n",
       "  <thead>\n",
       "    <tr style=\"text-align: right;\">\n",
       "      <th></th>\n",
       "      <th>PassengerId</th>\n",
       "      <th>Survived</th>\n",
       "      <th>Pclass</th>\n",
       "      <th>Name</th>\n",
       "      <th>Sex</th>\n",
       "      <th>Age</th>\n",
       "      <th>SibSp</th>\n",
       "      <th>Parch</th>\n",
       "      <th>Ticket</th>\n",
       "      <th>Fare</th>\n",
       "      <th>Cabin</th>\n",
       "      <th>Embarked</th>\n",
       "    </tr>\n",
       "  </thead>\n",
       "  <tbody>\n",
       "    <tr>\n",
       "      <th>886</th>\n",
       "      <td>887</td>\n",
       "      <td>0</td>\n",
       "      <td>2</td>\n",
       "      <td>Montvila, Rev. Juozas</td>\n",
       "      <td>male</td>\n",
       "      <td>27.0</td>\n",
       "      <td>0</td>\n",
       "      <td>0</td>\n",
       "      <td>211536</td>\n",
       "      <td>13.00</td>\n",
       "      <td>NaN</td>\n",
       "      <td>S</td>\n",
       "    </tr>\n",
       "    <tr>\n",
       "      <th>887</th>\n",
       "      <td>888</td>\n",
       "      <td>1</td>\n",
       "      <td>1</td>\n",
       "      <td>Graham, Miss. Margaret Edith</td>\n",
       "      <td>female</td>\n",
       "      <td>19.0</td>\n",
       "      <td>0</td>\n",
       "      <td>0</td>\n",
       "      <td>112053</td>\n",
       "      <td>30.00</td>\n",
       "      <td>B42</td>\n",
       "      <td>S</td>\n",
       "    </tr>\n",
       "    <tr>\n",
       "      <th>888</th>\n",
       "      <td>889</td>\n",
       "      <td>0</td>\n",
       "      <td>3</td>\n",
       "      <td>Johnston, Miss. Catherine Helen \"Carrie\"</td>\n",
       "      <td>female</td>\n",
       "      <td>NaN</td>\n",
       "      <td>1</td>\n",
       "      <td>2</td>\n",
       "      <td>W./C. 6607</td>\n",
       "      <td>23.45</td>\n",
       "      <td>NaN</td>\n",
       "      <td>S</td>\n",
       "    </tr>\n",
       "    <tr>\n",
       "      <th>889</th>\n",
       "      <td>890</td>\n",
       "      <td>1</td>\n",
       "      <td>1</td>\n",
       "      <td>Behr, Mr. Karl Howell</td>\n",
       "      <td>male</td>\n",
       "      <td>26.0</td>\n",
       "      <td>0</td>\n",
       "      <td>0</td>\n",
       "      <td>111369</td>\n",
       "      <td>30.00</td>\n",
       "      <td>C148</td>\n",
       "      <td>C</td>\n",
       "    </tr>\n",
       "    <tr>\n",
       "      <th>890</th>\n",
       "      <td>891</td>\n",
       "      <td>0</td>\n",
       "      <td>3</td>\n",
       "      <td>Dooley, Mr. Patrick</td>\n",
       "      <td>male</td>\n",
       "      <td>32.0</td>\n",
       "      <td>0</td>\n",
       "      <td>0</td>\n",
       "      <td>370376</td>\n",
       "      <td>7.75</td>\n",
       "      <td>NaN</td>\n",
       "      <td>Q</td>\n",
       "    </tr>\n",
       "  </tbody>\n",
       "</table>\n",
       "</div>"
      ],
      "text/plain": [
       "     PassengerId  Survived  Pclass                                      Name  \\\n",
       "886          887         0       2                     Montvila, Rev. Juozas   \n",
       "887          888         1       1              Graham, Miss. Margaret Edith   \n",
       "888          889         0       3  Johnston, Miss. Catherine Helen \"Carrie\"   \n",
       "889          890         1       1                     Behr, Mr. Karl Howell   \n",
       "890          891         0       3                       Dooley, Mr. Patrick   \n",
       "\n",
       "        Sex   Age  SibSp  Parch      Ticket   Fare Cabin Embarked  \n",
       "886    male  27.0      0      0      211536  13.00   NaN        S  \n",
       "887  female  19.0      0      0      112053  30.00   B42        S  \n",
       "888  female   NaN      1      2  W./C. 6607  23.45   NaN        S  \n",
       "889    male  26.0      0      0      111369  30.00  C148        C  \n",
       "890    male  32.0      0      0      370376   7.75   NaN        Q  "
      ]
     },
     "execution_count": 4,
     "metadata": {},
     "output_type": "execute_result"
    }
   ],
   "source": [
    "titanic_df.tail()"
   ]
  },
  {
   "cell_type": "code",
   "execution_count": 5,
   "metadata": {
    "collapsed": false
   },
   "outputs": [
    {
     "data": {
      "text/html": [
       "<div>\n",
       "<table border=\"1\" class=\"dataframe\">\n",
       "  <thead>\n",
       "    <tr style=\"text-align: right;\">\n",
       "      <th></th>\n",
       "      <th>PassengerId</th>\n",
       "      <th>Survived</th>\n",
       "      <th>Pclass</th>\n",
       "      <th>Age</th>\n",
       "      <th>SibSp</th>\n",
       "      <th>Parch</th>\n",
       "      <th>Fare</th>\n",
       "    </tr>\n",
       "  </thead>\n",
       "  <tbody>\n",
       "    <tr>\n",
       "      <th>count</th>\n",
       "      <td>891.000000</td>\n",
       "      <td>891.000000</td>\n",
       "      <td>891.000000</td>\n",
       "      <td>714.000000</td>\n",
       "      <td>891.000000</td>\n",
       "      <td>891.000000</td>\n",
       "      <td>891.000000</td>\n",
       "    </tr>\n",
       "    <tr>\n",
       "      <th>mean</th>\n",
       "      <td>446.000000</td>\n",
       "      <td>0.383838</td>\n",
       "      <td>2.308642</td>\n",
       "      <td>29.699118</td>\n",
       "      <td>0.523008</td>\n",
       "      <td>0.381594</td>\n",
       "      <td>32.204208</td>\n",
       "    </tr>\n",
       "    <tr>\n",
       "      <th>std</th>\n",
       "      <td>257.353842</td>\n",
       "      <td>0.486592</td>\n",
       "      <td>0.836071</td>\n",
       "      <td>14.526497</td>\n",
       "      <td>1.102743</td>\n",
       "      <td>0.806057</td>\n",
       "      <td>49.693429</td>\n",
       "    </tr>\n",
       "    <tr>\n",
       "      <th>min</th>\n",
       "      <td>1.000000</td>\n",
       "      <td>0.000000</td>\n",
       "      <td>1.000000</td>\n",
       "      <td>0.420000</td>\n",
       "      <td>0.000000</td>\n",
       "      <td>0.000000</td>\n",
       "      <td>0.000000</td>\n",
       "    </tr>\n",
       "    <tr>\n",
       "      <th>25%</th>\n",
       "      <td>223.500000</td>\n",
       "      <td>0.000000</td>\n",
       "      <td>2.000000</td>\n",
       "      <td>20.125000</td>\n",
       "      <td>0.000000</td>\n",
       "      <td>0.000000</td>\n",
       "      <td>7.910400</td>\n",
       "    </tr>\n",
       "    <tr>\n",
       "      <th>50%</th>\n",
       "      <td>446.000000</td>\n",
       "      <td>0.000000</td>\n",
       "      <td>3.000000</td>\n",
       "      <td>28.000000</td>\n",
       "      <td>0.000000</td>\n",
       "      <td>0.000000</td>\n",
       "      <td>14.454200</td>\n",
       "    </tr>\n",
       "    <tr>\n",
       "      <th>75%</th>\n",
       "      <td>668.500000</td>\n",
       "      <td>1.000000</td>\n",
       "      <td>3.000000</td>\n",
       "      <td>38.000000</td>\n",
       "      <td>1.000000</td>\n",
       "      <td>0.000000</td>\n",
       "      <td>31.000000</td>\n",
       "    </tr>\n",
       "    <tr>\n",
       "      <th>max</th>\n",
       "      <td>891.000000</td>\n",
       "      <td>1.000000</td>\n",
       "      <td>3.000000</td>\n",
       "      <td>80.000000</td>\n",
       "      <td>8.000000</td>\n",
       "      <td>6.000000</td>\n",
       "      <td>512.329200</td>\n",
       "    </tr>\n",
       "  </tbody>\n",
       "</table>\n",
       "</div>"
      ],
      "text/plain": [
       "       PassengerId    Survived      Pclass         Age       SibSp  \\\n",
       "count   891.000000  891.000000  891.000000  714.000000  891.000000   \n",
       "mean    446.000000    0.383838    2.308642   29.699118    0.523008   \n",
       "std     257.353842    0.486592    0.836071   14.526497    1.102743   \n",
       "min       1.000000    0.000000    1.000000    0.420000    0.000000   \n",
       "25%     223.500000    0.000000    2.000000   20.125000    0.000000   \n",
       "50%     446.000000    0.000000    3.000000   28.000000    0.000000   \n",
       "75%     668.500000    1.000000    3.000000   38.000000    1.000000   \n",
       "max     891.000000    1.000000    3.000000   80.000000    8.000000   \n",
       "\n",
       "            Parch        Fare  \n",
       "count  891.000000  891.000000  \n",
       "mean     0.381594   32.204208  \n",
       "std      0.806057   49.693429  \n",
       "min      0.000000    0.000000  \n",
       "25%      0.000000    7.910400  \n",
       "50%      0.000000   14.454200  \n",
       "75%      0.000000   31.000000  \n",
       "max      6.000000  512.329200  "
      ]
     },
     "execution_count": 5,
     "metadata": {},
     "output_type": "execute_result"
    }
   ],
   "source": [
    "titanic_df.describe()"
   ]
  },
  {
   "cell_type": "markdown",
   "metadata": {},
   "source": [
    "** Notes so far...**\n",
    "* This dataset has 891 rows corresponding to 891 passengers. So this is clearly a subset of the complete dataset, which should have 2224 rows(same number as passengers on the RMS Titanic).\n",
    "* We have some missing values in the Age column where only 714 records out of 891 have age value."
   ]
  },
  {
   "cell_type": "markdown",
   "metadata": {},
   "source": [
    "Now, Let's look at the various columns on what kind of data we have in them. One way to do that is to look at how many different kind of values each column has."
   ]
  },
  {
   "cell_type": "code",
   "execution_count": 6,
   "metadata": {
    "collapsed": false
   },
   "outputs": [
    {
     "name": "stdout",
     "output_type": "stream",
     "text": [
      "PassengerId    (PassengerId, 891, [1, 2, 3, 4, 5, 6, 7, 8, 9,...\n",
      "Survived                                   (Survived, 2, [0, 1])\n",
      "Pclass                                    (Pclass, 3, [3, 1, 2])\n",
      "Name           (Name, 891, [Braund, Mr. Owen Harris, Cumings,...\n",
      "Sex                                     (Sex, 2, [male, female])\n",
      "Age            (Age, 89, [22.0, 38.0, 26.0, 35.0, nan, 54.0, ...\n",
      "SibSp                          (SibSp, 7, [1, 0, 3, 4, 2, 5, 8])\n",
      "Parch                          (Parch, 7, [0, 1, 2, 5, 3, 4, 6])\n",
      "Ticket         (Ticket, 681, [A/5 21171, PC 17599, STON/O2. 3...\n",
      "Fare           (Fare, 248, [7.25, 71.2833, 7.925, 53.1, 8.05,...\n",
      "Cabin          (Cabin, 148, [nan, C85, C123, E46, G6, C103, D...\n",
      "Embarked                           (Embarked, 4, [S, C, Q, nan])\n",
      "dtype: object\n"
     ]
    }
   ],
   "source": [
    "def column_uniques(column):\n",
    "    unique_values = list(column.unique())\n",
    "    count_unique = len(unique_values)\n",
    "    return column.name, count_unique, unique_values\n",
    "            \n",
    "#column_uniques(titanic_df['Sex'])    \n",
    "print titanic_df.apply(column_uniques)"
   ]
  },
  {
   "cell_type": "markdown",
   "metadata": {},
   "source": [
    "We have some seen notable things about the days so far...\n",
    "* We got the 'Survived field which has either of 2 values - 0 or 1. 0 means the passenger didn't survive, 1 means the passenger survived. \n",
    "* Sex field got either of 2 values male or female. \n",
    "* Pclass column has 3 kinds of values - 1,2 or 3.\n",
    "* Age has numeric values ranging from 0.42 to 80. Also, there are 177 records which has no age value. We would need to take care of these when visualizing the data by age.\n",
    "* SibSp stands for total number of siblings and/or spouse the passenger had with onboard. The values range from 0 to 8 with no passengers having 6 or 7.\n",
    "* Parch stands for Number of parents/children abroad\n",
    "* We can ignore the PassengerId as it's a unique id field for every passenger. \n",
    "* We can also ignore Name, Cabin, Ticket and Emabrked.\n",
    "* Fare can be safely ignored also as Pclass seems to be a better predictor of the wealth of the passenger.\n",
    "\n",
    "So, we are going to look at how below fields' values affected the survival (0 or 1). \n",
    "* Sex\n",
    "* Age\n",
    "* Pclass\n",
    "\n",
    "Let's explore this further by grouping the data on these fields..."
   ]
  },
  {
   "cell_type": "code",
   "execution_count": 7,
   "metadata": {
    "collapsed": false
   },
   "outputs": [
    {
     "name": "stdout",
     "output_type": "stream",
     "text": [
      "Sex       female  male\n",
      "Survived              \n",
      "0             81   468\n",
      "1            233   109\n",
      "\n"
     ]
    },
    {
     "data": {
      "text/plain": [
       "array([<matplotlib.axes._subplots.AxesSubplot object at 0x7f7d1bc7b090>,\n",
       "       <matplotlib.axes._subplots.AxesSubplot object at 0x7f7d1bc02cd0>], dtype=object)"
      ]
     },
     "execution_count": 7,
     "metadata": {},
     "output_type": "execute_result"
    },
    {
     "data": {
      "text/plain": [
       "<matplotlib.figure.Figure at 0x7f7d1e4ea9d0>"
      ]
     },
     "metadata": {},
     "output_type": "display_data"
    },
    {
     "data": {
      "image/png": "[encoded data removed]",
      "text/plain": [
       "<matplotlib.figure.Figure at 0x7f7d1e019a90>"
      ]
     },
     "metadata": {},
     "output_type": "display_data"
    }
   ],
   "source": [
    "# group by sex and run the visualizations\n",
    "sex_grouping = titanic_df[['Sex', 'Survived']].groupby(['Survived', 'Sex', ]).size()\n",
    "sex_grouping_unstacked = sex_grouping.unstack()\n",
    "total_records =  titanic_df['Sex'].count()\n",
    "\n",
    "print sex_grouping_unstacked\n",
    "print \"\"\n",
    "\n",
    "plt.figure()\n",
    "#sex_grouping_unstacked.plot.barh(color='k', title=\"Survival by Sex\")\n",
    "sex_grouping_unstacked.plot.pie(title=\"Survival by Sex\", subplots=True, figsize=(8, 4), colors=('r', 'g'), \n",
    "                                labels=('Survived', 'Didnot survive'))"
   ]
  },
  {
   "cell_type": "markdown",
   "metadata": {},
   "source": [
    "In the above chart, we grouped the passengers by sex. By looking at the charts, it looks like that approxmately, \n",
    "* 3/4ths of the female passengers survived. \n",
    "* 4/5ths of the male passengers didn't survive.\n",
    "\n",
    "\n",
    "Let's calculate surival rates and see how it looks as real numbers."
   ]
  },
  {
   "cell_type": "code",
   "execution_count": 8,
   "metadata": {
    "collapsed": false
   },
   "outputs": [
    {
     "name": "stdout",
     "output_type": "stream",
     "text": [
      "% of females who survived: 74.2038216561\n",
      "% of males who survived: 18.8908145581\n"
     ]
    }
   ],
   "source": [
    "# Calculate survival rates(%) by sex\n",
    "total_females_didnot_survive = sex_grouping_unstacked['female'][0] \n",
    "total_females_survived = sex_grouping_unstacked['female'][1] \n",
    "total_females = total_females_didnot_survive + total_females_survived\n",
    "total_males_didnot_survive = sex_grouping_unstacked['male'][0] \n",
    "total_males_survived = sex_grouping_unstacked['male'][1] \n",
    "total_males = total_males_didnot_survive + total_males_survived\n",
    "percentage_females_survived = total_females_survived  * 100.0 / total_females\n",
    "percentage_males_survived = total_males_survived  * 100.0 / total_males\n",
    "\n",
    "print \"% of females who survived:\", percentage_females_survived\n",
    "print \"% of males who survived:\", percentage_males_survived"
   ]
  },
  {
   "cell_type": "markdown",
   "metadata": {},
   "source": [
    "So the survival rate has a strong bias towards the sex of the passengers. This is quite evident from the survival percantages we calculated above. (female survival rate is 74.20% as compared to males who has 18.89% survival rate)."
   ]
  },
  {
   "cell_type": "code",
   "execution_count": 9,
   "metadata": {
    "collapsed": false
   },
   "outputs": [
    {
     "name": "stdout",
     "output_type": "stream",
     "text": [
      "        Didn't Survive  Survived\n",
      "Pclass                          \n",
      "1                   80       136\n",
      "2                   97        87\n",
      "3                  372       119\n"
     ]
    },
    {
     "data": {
      "text/plain": [
       "<matplotlib.axes._subplots.AxesSubplot at 0x7f7d1b4b6650>"
      ]
     },
     "execution_count": 9,
     "metadata": {},
     "output_type": "execute_result"
    },
    {
     "data": {
      "text/plain": [
       "<matplotlib.figure.Figure at 0x7f7d1e019190>"
      ]
     },
     "metadata": {},
     "output_type": "display_data"
    },
    {
     "data": {
      "image/png": "[encoded data removed]",
      "text/plain": [
       "<matplotlib.figure.Figure at 0x7f7d1b496890>"
      ]
     },
     "metadata": {},
     "output_type": "display_data"
    }
   ],
   "source": [
    "# Grouping by the Class of the passengers\n",
    "class_grouping = titanic_df[['Pclass', 'Survived']].groupby([ 'Pclass', 'Survived']).size()\n",
    "class_grouping_unstacked = class_grouping.unstack()\n",
    "class_grouping_unstacked.columns = [\"Didn't Survive\", 'Survived']\n",
    "print class_grouping_unstacked\n",
    "plt.figure()\n",
    "class_grouping_unstacked.plot.bar(title=\"Survival by Class\", color=('r', 'g')) "
   ]
  },
  {
   "cell_type": "markdown",
   "metadata": {},
   "source": [
    "The above chart depicts the survival by passenger class(ticket class, presumeably). This chart seems to show that...\n",
    "* passengers from class 1 were more likely to survive. \n",
    "* passengers from class 3 were more likely not to survive.\n",
    "* passengers from class 2 survival rate were quite close to 50%\n",
    "\n",
    "Let's calculate the actual survival rates of passengers by class."
   ]
  },
  {
   "cell_type": "code",
   "execution_count": 10,
   "metadata": {
    "collapsed": false
   },
   "outputs": [
    {
     "name": "stdout",
     "output_type": "stream",
     "text": [
      "Pclass\n",
      "1    62.962963\n",
      "2    47.282609\n",
      "3    24.236253\n",
      "Name: survival_rate, dtype: float64\n"
     ]
    },
    {
     "data": {
      "text/plain": [
       "<matplotlib.axes._subplots.AxesSubplot at 0x7f7d1b9f42d0>"
      ]
     },
     "execution_count": 10,
     "metadata": {},
     "output_type": "execute_result"
    },
    {
     "data": {
      "image/png": "[encoded data removed]",
      "text/plain": [
       "<matplotlib.figure.Figure at 0x7f7d1bb3ec50>"
      ]
     },
     "metadata": {},
     "output_type": "display_data"
    }
   ],
   "source": [
    "class_grouping_unstacked[\"survival_rate\"] = class_grouping_unstacked[\"Survived\"] * 100.0 \\\n",
    "                                            / (class_grouping_unstacked[\"Didn't Survive\"] + \n",
    "                                            class_grouping_unstacked[\"Survived\"] )\n",
    "print class_grouping_unstacked['survival_rate']\n",
    "class_grouping_unstacked['survival_rate'].plot.barh(title=\"Survival rates by Class(%)\", color=('g'))"
   ]
  },
  {
   "cell_type": "markdown",
   "metadata": {
    "collapsed": true
   },
   "source": [
    "It seems like passenger class impacted the survival but not as much as sex."
   ]
  },
  {
   "cell_type": "code",
   "execution_count": 11,
   "metadata": {
    "collapsed": false
   },
   "outputs": [
    {
     "data": {
      "text/plain": [
       "<matplotlib.axes._subplots.AxesSubplot at 0x7f7d1bb575d0>"
      ]
     },
     "execution_count": 11,
     "metadata": {},
     "output_type": "execute_result"
    },
    {
     "data": {
      "text/plain": [
       "<matplotlib.figure.Figure at 0x7f7d4c50fe10>"
      ]
     },
     "metadata": {},
     "output_type": "display_data"
    },
    {
     "data": {
      "image/png": "[encoded data removed]",
      "text/plain": [
       "<matplotlib.figure.Figure at 0x7f7d1b456a50>"
      ]
     },
     "metadata": {},
     "output_type": "display_data"
    }
   ],
   "source": [
    "# Grouping by age of the passengers\n",
    "\n",
    "titanic_df['age_group'] = pd.cut(titanic_df['Age'], np.arange(0, 85, 5))\n",
    "age_grouping = titanic_df[['age_group', 'Survived']].groupby(['age_group', 'Survived']).size()\n",
    "age_grouping_unstacked = age_grouping.unstack()\n",
    "age_grouping_unstacked.columns = [\"Didn't Survive\", 'Survived']\n",
    "plt.figure()\n",
    "age_grouping_unstacked.plot.bar(stacked=True, title=\"Survival by Age\", color=('r', 'g')) "
   ]
  },
  {
   "cell_type": "code",
   "execution_count": 12,
   "metadata": {
    "collapsed": false
   },
   "outputs": [
    {
     "name": "stdout",
     "output_type": "stream",
     "text": [
      "age_group\n",
      "(0, 5]      70.454545\n",
      "(5, 10]     35.000000\n",
      "(10, 15]    57.894737\n",
      "(15, 20]    34.375000\n",
      "(20, 25]    34.426230\n",
      "(25, 30]    38.888889\n",
      "(30, 35]    46.590909\n",
      "(35, 40]    41.791045\n",
      "(40, 45]    36.170213\n",
      "(45, 50]    41.025641\n",
      "(50, 55]    41.666667\n",
      "(55, 60]    38.888889\n",
      "(60, 65]    28.571429\n",
      "(65, 70]          NaN\n",
      "(70, 75]          NaN\n",
      "(75, 80]          NaN\n",
      "Name: survival_rate, dtype: float64\n"
     ]
    },
    {
     "data": {
      "text/plain": [
       "<matplotlib.axes._subplots.AxesSubplot at 0x7f7d1b265950>"
      ]
     },
     "execution_count": 12,
     "metadata": {},
     "output_type": "execute_result"
    },
    {
     "data": {
      "image/png": "[encoded data removed]",
      "text/plain": [
       "<matplotlib.figure.Figure at 0x7f7d1b99acd0>"
      ]
     },
     "metadata": {},
     "output_type": "display_data"
    }
   ],
   "source": [
    "# Let's calculate the survival rates for different age groups\n",
    "age_grouping_unstacked[\"survival_rate\"] = age_grouping_unstacked[\"Survived\"] * 100.0 \\\n",
    "                                          / (age_grouping_unstacked[\"Didn't Survive\"] + \n",
    "                                             age_grouping_unstacked[\"Survived\"])\n",
    "print age_grouping_unstacked['survival_rate']\n",
    "age_grouping_unstacked['survival_rate'].to_csv('survival_rate_by_age.tsv', sep='\\t')\n",
    "age_grouping_unstacked['survival_rate'].plot.bar(title=\"Survival rates by Age(%)\", color=('g'))"
   ]
  },
  {
   "cell_type": "markdown",
   "metadata": {},
   "source": [
    "* Age doesn't seem to have much impact on the survival except for children under the age of 5. \n",
    "* The survival rate actually decreases for age group 5-10 before it increases again slightly for age-group 10-15. \n",
    "\n",
    "Maybe, the infants and toddlers had more chance of survival as they would be carried by the surviving mothers. Whereas, children in the age group 5-10 would have to follow the adults instead of being picked up. better survival rate of 10-15 years old could be because pre-teens and teens are more stronger and resourceful then a typical 5-10 year old.   "
   ]
  },
  {
   "cell_type": "code",
   "execution_count": 13,
   "metadata": {
    "collapsed": false
   },
   "outputs": [
    {
     "data": {
      "text/plain": [
       "<matplotlib.axes._subplots.AxesSubplot at 0x7f7d1b0b2750>"
      ]
     },
     "execution_count": 13,
     "metadata": {},
     "output_type": "execute_result"
    },
    {
     "data": {
      "image/png": "[encoded data removed]",
      "text/plain": [
       "<matplotlib.figure.Figure at 0x7f7d1b98a210>"
      ]
     },
     "metadata": {},
     "output_type": "display_data"
    }
   ],
   "source": [
    "# Group by both sex and class\n",
    "grouping_by_sexnclass = titanic_df[['Sex', 'Pclass', 'Survived']].groupby(['Sex', 'Pclass', 'Survived']).size()\n",
    "grouping_by_sexnclass = grouping_by_sexnclass.unstack()\n",
    "grouping_by_sexnclass.columns = [\"Didn't Survive\", 'Survived']\n",
    "grouping_by_sexnclass.plot.barh(stacked=True, title=\"Survival by Sex and Class\", color=('r', 'g'))"
   ]
  },
  {
   "cell_type": "code",
   "execution_count": 14,
   "metadata": {
    "collapsed": false
   },
   "outputs": [
    {
     "name": "stdout",
     "output_type": "stream",
     "text": [
      "Sex     Pclass\n",
      "female  1         96.808511\n",
      "        2         92.105263\n",
      "        3         50.000000\n",
      "male    1         36.885246\n",
      "        2         15.740741\n",
      "        3         13.544669\n",
      "Name: survival_rate, dtype: float64\n"
     ]
    },
    {
     "data": {
      "text/plain": [
       "<matplotlib.axes._subplots.AxesSubplot at 0x7f7d1af2a6d0>"
      ]
     },
     "execution_count": 14,
     "metadata": {},
     "output_type": "execute_result"
    },
    {
     "data": {
      "image/png": "[encoded data removed]",
      "text/plain": [
       "<matplotlib.figure.Figure at 0x7f7d1b209a90>"
      ]
     },
     "metadata": {},
     "output_type": "display_data"
    }
   ],
   "source": [
    "# Let's calculate the survival rates by class and Sex.\n",
    "grouping_by_sexnclass[\"survival_rate\"] = grouping_by_sexnclass[\"Survived\"] * 100.0 \\\n",
    "                                          / (grouping_by_sexnclass[\"Didn't Survive\"] + \n",
    "                                             grouping_by_sexnclass[\"Survived\"])\n",
    "print grouping_by_sexnclass['survival_rate']\n",
    "grouping_by_sexnclass['survival_rate'].plot.barh(title=\"Survival rates by Sex and Class(%)\", color=('g'))"
   ]
  },
  {
   "cell_type": "markdown",
   "metadata": {},
   "source": [
    "* Females from 1st and 2nd class have > 90% survival rate whereas females from 3rd class has survival rate of around 50%.\n",
    "* Among males, 1st class passengers has higher rate then 2nd and 3rd class. But the 1st class male paseengers survival rate is nowhere near the 1st class females. \n"
   ]
  },
  {
   "cell_type": "markdown",
   "metadata": {},
   "source": [
    "# Conclusion\n",
    "\n",
    "Based on this dataset, below subgroups had better chance of survival..\n",
    "* females passengers\n",
    "* class 1 passengers\n",
    "* children less then 5 years\n",
    "\n",
    "Below subgroups had lesser chance of survival...\n",
    "* male passengers\n",
    "* class 3 passengers\n",
    "* older passengers\n",
    "\n",
    "However, these results are based on the data present and there would be exceptions to these findings.This dataset just had 891 records out of the total of 2,224 passengers who were there on RMS Titanic. There might be other factors impacting the survival outcome. so we conclude that this is a very limited analysis and might have different results if we had a different sample set or the whole data."
   ]
  },
  {
   "cell_type": "markdown",
   "metadata": {},
   "source": [
    "** Appendix **\n",
    "\n",
    "Below resources were referred as part of the analysis to get some background information\n",
    "1. https://www.kaggle.com/c/titanic/data\n",
    "2. Wikipedia"
   ]
  },
  {
   "cell_type": "code",
   "execution_count": null,
   "metadata": {
    "collapsed": true
   },
   "outputs": [],
   "source": []
  }
 ],
 "metadata": {
  "kernelspec": {
   "display_name": "Python 2",
   "language": "python",
   "name": "python2"
  },
  "language_info": {
   "codemirror_mode": {
    "name": "ipython",
    "version": 2
   },
   "file_extension": ".py",
   "mimetype": "text/x-python",
   "name": "python",
   "nbconvert_exporter": "python",
   "pygments_lexer": "ipython2",
   "version": "2.7.12"
  }
 },
 "nbformat": 4,
 "nbformat_minor": 0
}

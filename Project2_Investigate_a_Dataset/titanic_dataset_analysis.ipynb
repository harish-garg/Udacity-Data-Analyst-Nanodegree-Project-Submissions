{
 "cells": [
  {
   "cell_type": "markdown",
   "metadata": {},
   "source": [
    "# Project 2 of Udacity Data Analyst Nanodegree\n",
    "\n",
    "** Analyzing Titanic passenger survival dataset **\n",
    "\n",
    "In this ipython notebook, we are going to analyze the Titanic Passenger dataset as provided by udacity.\n",
    "\n",
    "From [Wikipedia](https://en.wikipedia.org/wiki/RMS_Titanic)...\n",
    ">RMS Titanic was a British passenger liner that sank in the North Atlantic Ocean in the early morning of 15 April 1912, after colliding with an iceberg during her maiden voyage from Southampton to New York City. Of the 2,224 passengers and crew aboard, more than 1,500 died in the sinking, making it one of the deadliest commercial peacetime maritime disasters in modern history.\n",
    "\n",
    "The Question we are going to answer is...\n",
    "\n",
    "What are the charcteristics of passengers who survived compared to the ones who didnt?\n"
   ]
  },
  {
   "cell_type": "code",
   "execution_count": 1,
   "metadata": {
    "collapsed": true
   },
   "outputs": [],
   "source": [
    "# Let's import the necessary modules\n",
    "%matplotlib inline\n",
    "import numpy as np\n",
    "import pandas as pd\n",
    "import matplotlib.pyplot as plt\n",
    "import seaborn as sns"
   ]
  },
  {
   "cell_type": "code",
   "execution_count": 2,
   "metadata": {
    "collapsed": false
   },
   "outputs": [],
   "source": [
    "# Read the csv dataset file into a pandas DataFrame. \n",
    "titanic_df = pd.read_csv('titanic_data.csv')"
   ]
  },
  {
   "cell_type": "code",
   "execution_count": 3,
   "metadata": {
    "collapsed": false
   },
   "outputs": [
    {
     "data": {
      "text/html": [
       "<div>\n",
       "<table border=\"1\" class=\"dataframe\">\n",
       "  <thead>\n",
       "    <tr style=\"text-align: right;\">\n",
       "      <th></th>\n",
       "      <th>PassengerId</th>\n",
       "      <th>Survived</th>\n",
       "      <th>Pclass</th>\n",
       "      <th>Name</th>\n",
       "      <th>Sex</th>\n",
       "      <th>Age</th>\n",
       "      <th>SibSp</th>\n",
       "      <th>Parch</th>\n",
       "      <th>Ticket</th>\n",
       "      <th>Fare</th>\n",
       "      <th>Cabin</th>\n",
       "      <th>Embarked</th>\n",
       "    </tr>\n",
       "  </thead>\n",
       "  <tbody>\n",
       "    <tr>\n",
       "      <th>0</th>\n",
       "      <td>1</td>\n",
       "      <td>0</td>\n",
       "      <td>3</td>\n",
       "      <td>Braund, Mr. Owen Harris</td>\n",
       "      <td>male</td>\n",
       "      <td>22.0</td>\n",
       "      <td>1</td>\n",
       "      <td>0</td>\n",
       "      <td>A/5 21171</td>\n",
       "      <td>7.2500</td>\n",
       "      <td>NaN</td>\n",
       "      <td>S</td>\n",
       "    </tr>\n",
       "    <tr>\n",
       "      <th>1</th>\n",
       "      <td>2</td>\n",
       "      <td>1</td>\n",
       "      <td>1</td>\n",
       "      <td>Cumings, Mrs. John Bradley (Florence Briggs Th...</td>\n",
       "      <td>female</td>\n",
       "      <td>38.0</td>\n",
       "      <td>1</td>\n",
       "      <td>0</td>\n",
       "      <td>PC 17599</td>\n",
       "      <td>71.2833</td>\n",
       "      <td>C85</td>\n",
       "      <td>C</td>\n",
       "    </tr>\n",
       "    <tr>\n",
       "      <th>2</th>\n",
       "      <td>3</td>\n",
       "      <td>1</td>\n",
       "      <td>3</td>\n",
       "      <td>Heikkinen, Miss. Laina</td>\n",
       "      <td>female</td>\n",
       "      <td>26.0</td>\n",
       "      <td>0</td>\n",
       "      <td>0</td>\n",
       "      <td>STON/O2. 3101282</td>\n",
       "      <td>7.9250</td>\n",
       "      <td>NaN</td>\n",
       "      <td>S</td>\n",
       "    </tr>\n",
       "    <tr>\n",
       "      <th>3</th>\n",
       "      <td>4</td>\n",
       "      <td>1</td>\n",
       "      <td>1</td>\n",
       "      <td>Futrelle, Mrs. Jacques Heath (Lily May Peel)</td>\n",
       "      <td>female</td>\n",
       "      <td>35.0</td>\n",
       "      <td>1</td>\n",
       "      <td>0</td>\n",
       "      <td>113803</td>\n",
       "      <td>53.1000</td>\n",
       "      <td>C123</td>\n",
       "      <td>S</td>\n",
       "    </tr>\n",
       "    <tr>\n",
       "      <th>4</th>\n",
       "      <td>5</td>\n",
       "      <td>0</td>\n",
       "      <td>3</td>\n",
       "      <td>Allen, Mr. William Henry</td>\n",
       "      <td>male</td>\n",
       "      <td>35.0</td>\n",
       "      <td>0</td>\n",
       "      <td>0</td>\n",
       "      <td>373450</td>\n",
       "      <td>8.0500</td>\n",
       "      <td>NaN</td>\n",
       "      <td>S</td>\n",
       "    </tr>\n",
       "  </tbody>\n",
       "</table>\n",
       "</div>"
      ],
      "text/plain": [
       "   PassengerId  Survived  Pclass  \\\n",
       "0            1         0       3   \n",
       "1            2         1       1   \n",
       "2            3         1       3   \n",
       "3            4         1       1   \n",
       "4            5         0       3   \n",
       "\n",
       "                                                Name     Sex   Age  SibSp  \\\n",
       "0                            Braund, Mr. Owen Harris    male  22.0      1   \n",
       "1  Cumings, Mrs. John Bradley (Florence Briggs Th...  female  38.0      1   \n",
       "2                             Heikkinen, Miss. Laina  female  26.0      0   \n",
       "3       Futrelle, Mrs. Jacques Heath (Lily May Peel)  female  35.0      1   \n",
       "4                           Allen, Mr. William Henry    male  35.0      0   \n",
       "\n",
       "   Parch            Ticket     Fare Cabin Embarked  \n",
       "0      0         A/5 21171   7.2500   NaN        S  \n",
       "1      0          PC 17599  71.2833   C85        C  \n",
       "2      0  STON/O2. 3101282   7.9250   NaN        S  \n",
       "3      0            113803  53.1000  C123        S  \n",
       "4      0            373450   8.0500   NaN        S  "
      ]
     },
     "execution_count": 3,
     "metadata": {},
     "output_type": "execute_result"
    }
   ],
   "source": [
    "# Let's look at some of the rows from the data to get some sense of what we are dealing with.\n",
    "titanic_df.head()"
   ]
  },
  {
   "cell_type": "code",
   "execution_count": 4,
   "metadata": {
    "collapsed": false
   },
   "outputs": [
    {
     "data": {
      "text/html": [
       "<div>\n",
       "<table border=\"1\" class=\"dataframe\">\n",
       "  <thead>\n",
       "    <tr style=\"text-align: right;\">\n",
       "      <th></th>\n",
       "      <th>PassengerId</th>\n",
       "      <th>Survived</th>\n",
       "      <th>Pclass</th>\n",
       "      <th>Name</th>\n",
       "      <th>Sex</th>\n",
       "      <th>Age</th>\n",
       "      <th>SibSp</th>\n",
       "      <th>Parch</th>\n",
       "      <th>Ticket</th>\n",
       "      <th>Fare</th>\n",
       "      <th>Cabin</th>\n",
       "      <th>Embarked</th>\n",
       "    </tr>\n",
       "  </thead>\n",
       "  <tbody>\n",
       "    <tr>\n",
       "      <th>886</th>\n",
       "      <td>887</td>\n",
       "      <td>0</td>\n",
       "      <td>2</td>\n",
       "      <td>Montvila, Rev. Juozas</td>\n",
       "      <td>male</td>\n",
       "      <td>27.0</td>\n",
       "      <td>0</td>\n",
       "      <td>0</td>\n",
       "      <td>211536</td>\n",
       "      <td>13.00</td>\n",
       "      <td>NaN</td>\n",
       "      <td>S</td>\n",
       "    </tr>\n",
       "    <tr>\n",
       "      <th>887</th>\n",
       "      <td>888</td>\n",
       "      <td>1</td>\n",
       "      <td>1</td>\n",
       "      <td>Graham, Miss. Margaret Edith</td>\n",
       "      <td>female</td>\n",
       "      <td>19.0</td>\n",
       "      <td>0</td>\n",
       "      <td>0</td>\n",
       "      <td>112053</td>\n",
       "      <td>30.00</td>\n",
       "      <td>B42</td>\n",
       "      <td>S</td>\n",
       "    </tr>\n",
       "    <tr>\n",
       "      <th>888</th>\n",
       "      <td>889</td>\n",
       "      <td>0</td>\n",
       "      <td>3</td>\n",
       "      <td>Johnston, Miss. Catherine Helen \"Carrie\"</td>\n",
       "      <td>female</td>\n",
       "      <td>NaN</td>\n",
       "      <td>1</td>\n",
       "      <td>2</td>\n",
       "      <td>W./C. 6607</td>\n",
       "      <td>23.45</td>\n",
       "      <td>NaN</td>\n",
       "      <td>S</td>\n",
       "    </tr>\n",
       "    <tr>\n",
       "      <th>889</th>\n",
       "      <td>890</td>\n",
       "      <td>1</td>\n",
       "      <td>1</td>\n",
       "      <td>Behr, Mr. Karl Howell</td>\n",
       "      <td>male</td>\n",
       "      <td>26.0</td>\n",
       "      <td>0</td>\n",
       "      <td>0</td>\n",
       "      <td>111369</td>\n",
       "      <td>30.00</td>\n",
       "      <td>C148</td>\n",
       "      <td>C</td>\n",
       "    </tr>\n",
       "    <tr>\n",
       "      <th>890</th>\n",
       "      <td>891</td>\n",
       "      <td>0</td>\n",
       "      <td>3</td>\n",
       "      <td>Dooley, Mr. Patrick</td>\n",
       "      <td>male</td>\n",
       "      <td>32.0</td>\n",
       "      <td>0</td>\n",
       "      <td>0</td>\n",
       "      <td>370376</td>\n",
       "      <td>7.75</td>\n",
       "      <td>NaN</td>\n",
       "      <td>Q</td>\n",
       "    </tr>\n",
       "  </tbody>\n",
       "</table>\n",
       "</div>"
      ],
      "text/plain": [
       "     PassengerId  Survived  Pclass                                      Name  \\\n",
       "886          887         0       2                     Montvila, Rev. Juozas   \n",
       "887          888         1       1              Graham, Miss. Margaret Edith   \n",
       "888          889         0       3  Johnston, Miss. Catherine Helen \"Carrie\"   \n",
       "889          890         1       1                     Behr, Mr. Karl Howell   \n",
       "890          891         0       3                       Dooley, Mr. Patrick   \n",
       "\n",
       "        Sex   Age  SibSp  Parch      Ticket   Fare Cabin Embarked  \n",
       "886    male  27.0      0      0      211536  13.00   NaN        S  \n",
       "887  female  19.0      0      0      112053  30.00   B42        S  \n",
       "888  female   NaN      1      2  W./C. 6607  23.45   NaN        S  \n",
       "889    male  26.0      0      0      111369  30.00  C148        C  \n",
       "890    male  32.0      0      0      370376   7.75   NaN        Q  "
      ]
     },
     "execution_count": 4,
     "metadata": {},
     "output_type": "execute_result"
    }
   ],
   "source": [
    "titanic_df.tail()"
   ]
  },
  {
   "cell_type": "code",
   "execution_count": 5,
   "metadata": {
    "collapsed": false
   },
   "outputs": [
    {
     "data": {
      "text/html": [
       "<div>\n",
       "<table border=\"1\" class=\"dataframe\">\n",
       "  <thead>\n",
       "    <tr style=\"text-align: right;\">\n",
       "      <th></th>\n",
       "      <th>PassengerId</th>\n",
       "      <th>Survived</th>\n",
       "      <th>Pclass</th>\n",
       "      <th>Age</th>\n",
       "      <th>SibSp</th>\n",
       "      <th>Parch</th>\n",
       "      <th>Fare</th>\n",
       "    </tr>\n",
       "  </thead>\n",
       "  <tbody>\n",
       "    <tr>\n",
       "      <th>count</th>\n",
       "      <td>891.000000</td>\n",
       "      <td>891.000000</td>\n",
       "      <td>891.000000</td>\n",
       "      <td>714.000000</td>\n",
       "      <td>891.000000</td>\n",
       "      <td>891.000000</td>\n",
       "      <td>891.000000</td>\n",
       "    </tr>\n",
       "    <tr>\n",
       "      <th>mean</th>\n",
       "      <td>446.000000</td>\n",
       "      <td>0.383838</td>\n",
       "      <td>2.308642</td>\n",
       "      <td>29.699118</td>\n",
       "      <td>0.523008</td>\n",
       "      <td>0.381594</td>\n",
       "      <td>32.204208</td>\n",
       "    </tr>\n",
       "    <tr>\n",
       "      <th>std</th>\n",
       "      <td>257.353842</td>\n",
       "      <td>0.486592</td>\n",
       "      <td>0.836071</td>\n",
       "      <td>14.526497</td>\n",
       "      <td>1.102743</td>\n",
       "      <td>0.806057</td>\n",
       "      <td>49.693429</td>\n",
       "    </tr>\n",
       "    <tr>\n",
       "      <th>min</th>\n",
       "      <td>1.000000</td>\n",
       "      <td>0.000000</td>\n",
       "      <td>1.000000</td>\n",
       "      <td>0.420000</td>\n",
       "      <td>0.000000</td>\n",
       "      <td>0.000000</td>\n",
       "      <td>0.000000</td>\n",
       "    </tr>\n",
       "    <tr>\n",
       "      <th>25%</th>\n",
       "      <td>223.500000</td>\n",
       "      <td>0.000000</td>\n",
       "      <td>2.000000</td>\n",
       "      <td>20.125000</td>\n",
       "      <td>0.000000</td>\n",
       "      <td>0.000000</td>\n",
       "      <td>7.910400</td>\n",
       "    </tr>\n",
       "    <tr>\n",
       "      <th>50%</th>\n",
       "      <td>446.000000</td>\n",
       "      <td>0.000000</td>\n",
       "      <td>3.000000</td>\n",
       "      <td>28.000000</td>\n",
       "      <td>0.000000</td>\n",
       "      <td>0.000000</td>\n",
       "      <td>14.454200</td>\n",
       "    </tr>\n",
       "    <tr>\n",
       "      <th>75%</th>\n",
       "      <td>668.500000</td>\n",
       "      <td>1.000000</td>\n",
       "      <td>3.000000</td>\n",
       "      <td>38.000000</td>\n",
       "      <td>1.000000</td>\n",
       "      <td>0.000000</td>\n",
       "      <td>31.000000</td>\n",
       "    </tr>\n",
       "    <tr>\n",
       "      <th>max</th>\n",
       "      <td>891.000000</td>\n",
       "      <td>1.000000</td>\n",
       "      <td>3.000000</td>\n",
       "      <td>80.000000</td>\n",
       "      <td>8.000000</td>\n",
       "      <td>6.000000</td>\n",
       "      <td>512.329200</td>\n",
       "    </tr>\n",
       "  </tbody>\n",
       "</table>\n",
       "</div>"
      ],
      "text/plain": [
       "       PassengerId    Survived      Pclass         Age       SibSp  \\\n",
       "count   891.000000  891.000000  891.000000  714.000000  891.000000   \n",
       "mean    446.000000    0.383838    2.308642   29.699118    0.523008   \n",
       "std     257.353842    0.486592    0.836071   14.526497    1.102743   \n",
       "min       1.000000    0.000000    1.000000    0.420000    0.000000   \n",
       "25%     223.500000    0.000000    2.000000   20.125000    0.000000   \n",
       "50%     446.000000    0.000000    3.000000   28.000000    0.000000   \n",
       "75%     668.500000    1.000000    3.000000   38.000000    1.000000   \n",
       "max     891.000000    1.000000    3.000000   80.000000    8.000000   \n",
       "\n",
       "            Parch        Fare  \n",
       "count  891.000000  891.000000  \n",
       "mean     0.381594   32.204208  \n",
       "std      0.806057   49.693429  \n",
       "min      0.000000    0.000000  \n",
       "25%      0.000000    7.910400  \n",
       "50%      0.000000   14.454200  \n",
       "75%      0.000000   31.000000  \n",
       "max      6.000000  512.329200  "
      ]
     },
     "execution_count": 5,
     "metadata": {},
     "output_type": "execute_result"
    }
   ],
   "source": [
    "titanic_df.describe()"
   ]
  },
  {
   "cell_type": "markdown",
   "metadata": {},
   "source": [
    "** Notes so far...**\n",
    "* This dataset has 891 rows corresponding to 891 passengers. So this is clearly a subset of the complete dataset, which should have 2224 rows(same number as passengers on the RMS Titanic).\n",
    "* We have some missing values in the Age column where only 714 records out of 891 have age value."
   ]
  },
  {
   "cell_type": "markdown",
   "metadata": {},
   "source": [
    "Now, Let's look at the various columns on what kind of data we have in them. One way to do that is to look at how many different kind of values each column has."
   ]
  },
  {
   "cell_type": "code",
   "execution_count": 6,
   "metadata": {
    "collapsed": false
   },
   "outputs": [
    {
     "name": "stdout",
     "output_type": "stream",
     "text": [
      "PassengerId    (PassengerId, 891, [1, 2, 3, 4, 5, 6, 7, 8, 9,...\n",
      "Survived                                   (Survived, 2, [0, 1])\n",
      "Pclass                                    (Pclass, 3, [3, 1, 2])\n",
      "Name           (Name, 891, [Braund, Mr. Owen Harris, Cumings,...\n",
      "Sex                                     (Sex, 2, [male, female])\n",
      "Age            (Age, 89, [22.0, 38.0, 26.0, 35.0, nan, 54.0, ...\n",
      "SibSp                          (SibSp, 7, [1, 0, 3, 4, 2, 5, 8])\n",
      "Parch                          (Parch, 7, [0, 1, 2, 5, 3, 4, 6])\n",
      "Ticket         (Ticket, 681, [A/5 21171, PC 17599, STON/O2. 3...\n",
      "Fare           (Fare, 248, [7.25, 71.2833, 7.925, 53.1, 8.05,...\n",
      "Cabin          (Cabin, 148, [nan, C85, C123, E46, G6, C103, D...\n",
      "Embarked                           (Embarked, 4, [S, C, Q, nan])\n",
      "dtype: object\n"
     ]
    }
   ],
   "source": [
    "def column_uniques(column):\n",
    "    unique_values = list(column.unique())\n",
    "    count_unique = len(unique_values)\n",
    "    return column.name, count_unique, unique_values\n",
    "            \n",
    "#column_uniques(titanic_df['Sex'])    \n",
    "print titanic_df.apply(column_uniques)"
   ]
  },
  {
   "cell_type": "markdown",
   "metadata": {},
   "source": [
    "We have some seen notable things about the days so far...\n",
    "* We got the 'Survived field which has either of 2 values - 0 or 1. 0 means the passenger didn't survive, 1 means the passenger survived. \n",
    "* Sex field got either of 2 values male or female. \n",
    "* Pclass column has 3 kinds of values - 1,2 or 3.\n",
    "* Age has numeric values ranging from 0.42 to 80. Also, there are 177 records which has no age value. We would need to take care of these when visualizing the data by age.\n",
    "* SibSp stands for total number of siblings and/or spouse the passenger had with onboard. The values range from 0 to 8 with no passengers having 6 or 7.\n",
    "* Parch stands for Number of parents/children abroad\n",
    "* We can ignore the PassengerId as it's a unique id field for every passenger. \n",
    "* We can also ignore Name, Cabin, Ticket and Emabrked.\n",
    "* Fare can be safely ignored also as Pclass seems to be a better predictor of the wealth of the passenger.\n",
    "\n",
    "So, we are going to look at how below fields' values affected the survival (0 or 1). \n",
    "* Sex\n",
    "* Age\n",
    "* Pclass\n",
    "\n",
    "Let's explore this further by grouping the data on these fields..."
   ]
  },
  {
   "cell_type": "code",
   "execution_count": 64,
   "metadata": {
    "collapsed": false
   },
   "outputs": [
    {
     "name": "stdout",
     "output_type": "stream",
     "text": [
      "Sex       female  male\n",
      "Survived              \n",
      "0             81   468\n",
      "1            233   109\n"
     ]
    },
    {
     "data": {
      "text/plain": [
       "array([<matplotlib.axes._subplots.AxesSubplot object at 0x7f8aa86cefd0>,\n",
       "       <matplotlib.axes._subplots.AxesSubplot object at 0x7f8aa865c150>], dtype=object)"
      ]
     },
     "execution_count": 64,
     "metadata": {},
     "output_type": "execute_result"
    },
    {
     "data": {
      "text/plain": [
       "<matplotlib.figure.Figure at 0x7f8aa8828410>"
      ]
     },
     "metadata": {},
     "output_type": "display_data"
    },
    {
     "data": {
      "image/png": "[encoded data removed]",
      "text/plain": [
       "<matplotlib.figure.Figure at 0x7f8aa86bb950>"
      ]
     },
     "metadata": {},
     "output_type": "display_data"
    }
   ],
   "source": [
    "# group by sex and run the visualizations\n",
    "sex_grouping = titanic_df[['Sex', 'Survived']].groupby(['Survived', 'Sex', ]).size()\n",
    "sex_grouping_unstacked = sex_grouping.unstack()\n",
    "print sex_grouping_unstacked\n",
    "plt.figure()\n",
    "#sex_grouping_unstacked.plot.barh(color='k', title=\"Survival by Sex\")\n",
    "sex_grouping_unstacked.plot.pie(title=\"Survival by Sex\", subplots=True, figsize=(8, 4), colors=('r', 'g'), \n",
    "                                labels=('Survived', 'Didnot survive'))"
   ]
  },
  {
   "cell_type": "markdown",
   "metadata": {},
   "source": [
    "In the above chart, we grouped the passengers by sex. By looking at the charts, it looks like that approxmately, \n",
    "* 3/4ths of the female passengers survived. \n",
    "* more then 3/4ths of the male passengers didn't survive.\n",
    "\n",
    "So the survival rate has a strong bias towards the sex of the passengers."
   ]
  },
  {
   "cell_type": "code",
   "execution_count": 79,
   "metadata": {
    "collapsed": false
   },
   "outputs": [
    {
     "name": "stdout",
     "output_type": "stream",
     "text": [
      "        Didn't Survive  Survived\n",
      "Pclass                          \n",
      "1                   80       136\n",
      "2                   97        87\n",
      "3                  372       119\n"
     ]
    },
    {
     "data": {
      "text/plain": [
       "<matplotlib.axes._subplots.AxesSubplot at 0x7f8aa7f45f10>"
      ]
     },
     "execution_count": 79,
     "metadata": {},
     "output_type": "execute_result"
    },
    {
     "data": {
      "text/plain": [
       "<matplotlib.figure.Figure at 0x7f8aa78c2d10>"
      ]
     },
     "metadata": {},
     "output_type": "display_data"
    },
    {
     "data": {
      "image/png": "[encoded data removed]",
      "text/plain": [
       "<matplotlib.figure.Figure at 0x7f8aa83e0d50>"
      ]
     },
     "metadata": {},
     "output_type": "display_data"
    }
   ],
   "source": [
    "# Grouping by the Class of the passengers\n",
    "class_grouping = titanic_df[['Pclass', 'Survived']].groupby([ 'Pclass', 'Survived']).size()\n",
    "class_grouping_unstacked = class_grouping.unstack()\n",
    "class_grouping_unstacked.columns = [\"Didn't Survive\", 'Survived']\n",
    "print class_grouping_unstacked\n",
    "plt.figure()\n",
    "class_grouping_unstacked.plot.bar(title=\"Survival by Class\", color=('r', 'g')) "
   ]
  },
  {
   "cell_type": "markdown",
   "metadata": {},
   "source": [
    "The above chart depicts the survival by passenger class(ticket class, presumeably). This chart seems to show that...\n",
    "* passengers from class 1 were more likely to survive. \n",
    "* passengers from class 3 were more likely not to survive.\n",
    "* passengers from class 2 survival rate were quite close to 50%\n",
    "\n",
    "It seems like passenger class impacted the survival but not as much as sex."
   ]
  },
  {
   "cell_type": "code",
   "execution_count": 129,
   "metadata": {
    "collapsed": false
   },
   "outputs": [
    {
     "name": "stdout",
     "output_type": "stream",
     "text": [
      "           Didn't Survive  Survived\n",
      "age_group                          \n",
      "(0, 5]               13.0      31.0\n",
      "(5, 10]              13.0       7.0\n",
      "(10, 15]              8.0      11.0\n",
      "(15, 20]             63.0      33.0\n",
      "(20, 25]             80.0      42.0\n",
      "(25, 30]             66.0      42.0\n",
      "(30, 35]             47.0      41.0\n",
      "(35, 40]             39.0      28.0\n",
      "(40, 45]             30.0      17.0\n",
      "(45, 50]             23.0      16.0\n",
      "(50, 55]             14.0      10.0\n",
      "(55, 60]             11.0       7.0\n",
      "(60, 65]             10.0       4.0\n",
      "(65, 70]              3.0       NaN\n",
      "(70, 75]              4.0       NaN\n",
      "(75, 80]              NaN       1.0\n"
     ]
    },
    {
     "data": {
      "text/plain": [
       "'\\nX = age_grouping_unstacked.index\\nY1 = age_grouping_unstacked[\"Didn\\'t Survive\"]\\nY2 = age_grouping_unstacked[\"Survived\"]\\n#Y1.plot.bar(title=\"Survival by Age\", color=(\\'r\\')) \\n#Y2.plot.bar(title=\"Survival by Age\", color=(\\'g\\')) \\n\\nn = 12\\nX = np.arange(n)\\nY1 = (1-X/float(n)) * np.random.uniform(0.5,1.0,n)\\nY2 = (1-X/float(n)) * np.random.uniform(0.5,1.0,n)\\nplt.bar(X, Y1, facecolor=\\'#9999ff\\', edgecolor=\\'white\\')\\nplt.bar(X, Y2, facecolor=\\'#ff9999\\', edgecolor=\\'white\\')\\nfor x,y in zip(X,Y1):\\n    plt.text(x+0.4, y+0.05, \\'%.2f\\' % y, ha=\\'center\\', va= \\'bottom\\')\\nplt.ylim(-1.25,+1.25)\\nplt.show()\\n'"
      ]
     },
     "execution_count": 129,
     "metadata": {},
     "output_type": "execute_result"
    },
    {
     "data": {
      "text/plain": [
       "<matplotlib.figure.Figure at 0x7f8aa82b8690>"
      ]
     },
     "metadata": {},
     "output_type": "display_data"
    },
    {
     "data": {
      "image/png": "[encoded data removed]",
      "text/plain": [
       "<matplotlib.figure.Figure at 0x7f8aa72602d0>"
      ]
     },
     "metadata": {},
     "output_type": "display_data"
    }
   ],
   "source": [
    "# Grouping by age of the passengers\n",
    "titanic_df['age_group'] = pd.cut(titanic_df['Age'], np.arange(0, 85, 5))\n",
    "age_grouping = titanic_df[['age_group', 'Survived']].groupby(['age_group', 'Survived']).size()\n",
    "age_grouping_unstacked = age_grouping.unstack()\n",
    "age_grouping_unstacked.columns = [\"Didn't Survive\", 'Survived']\n",
    "print age_grouping_unstacked\n",
    "plt.figure()\n",
    "age_grouping_unstacked.plot.bar(stacked=True, title=\"Survival by Age\", color=('r', 'g')) \n",
    "\n",
    "\"\"\"\n",
    "X = age_grouping_unstacked.index\n",
    "Y1 = age_grouping_unstacked[\"Didn't Survive\"]\n",
    "Y2 = age_grouping_unstacked[\"Survived\"]\n",
    "#Y1.plot.bar(title=\"Survival by Age\", color=('r')) \n",
    "#Y2.plot.bar(title=\"Survival by Age\", color=('g')) \n",
    "\n",
    "n = 12\n",
    "X = np.arange(n)\n",
    "Y1 = (1-X/float(n)) * np.random.uniform(0.5,1.0,n)\n",
    "Y2 = (1-X/float(n)) * np.random.uniform(0.5,1.0,n)\n",
    "plt.bar(X, Y1, facecolor='#9999ff', edgecolor='white')\n",
    "plt.bar(X, Y2, facecolor='#ff9999', edgecolor='white')\n",
    "for x,y in zip(X,Y1):\n",
    "    plt.text(x+0.4, y+0.05, '%.2f' % y, ha='center', va= 'bottom')\n",
    "plt.ylim(-1.25,+1.25)\n",
    "plt.show()\n",
    "\"\"\""
   ]
  },
  {
   "cell_type": "markdown",
   "metadata": {},
   "source": [
    "Age doesn't seem to have much impact on the survival except for children under the age of 5. The survival rate actually decreases for age group 5-10 before it increases again slightly for age-group 10-15. Maybe, the infants and toddlers had more chance of survival as they would be carried by the surviving mothers. Whereas, children in the age group 5-10 would have to follow the adults instead of being picked up. better survival rate of 10-15 years old could be because pre-teens and teens are more stronger and resourceful then a typical 5-10 year old.   "
   ]
  },
  {
   "cell_type": "code",
   "execution_count": 124,
   "metadata": {
    "collapsed": false
   },
   "outputs": [
    {
     "name": "stdout",
     "output_type": "stream",
     "text": [
      "               Didn't Survive  Survived\n",
      "Sex    Pclass                          \n",
      "female 1                    3        91\n",
      "       2                    6        70\n",
      "       3                   72        72\n",
      "male   1                   77        45\n",
      "       2                   91        17\n",
      "       3                  300        47\n"
     ]
    },
    {
     "data": {
      "text/plain": [
       "<matplotlib.axes._subplots.AxesSubplot at 0x7f8aa6e98090>"
      ]
     },
     "execution_count": 124,
     "metadata": {},
     "output_type": "execute_result"
    },
    {
     "data": {
      "image/png": "[encoded data removed]",
      "text/plain": [
       "<matplotlib.figure.Figure at 0x7f8aa6cb9cd0>"
      ]
     },
     "metadata": {},
     "output_type": "display_data"
    }
   ],
   "source": [
    "# Group by both sex and class\n",
    "grouping_by_sexnclass = titanic_df[['Sex', 'Pclass', 'Survived']].groupby(['Sex', 'Pclass', 'Survived']).size()\n",
    "grouping_by_sexnclass = grouping_by_sexnclass.unstack()\n",
    "grouping_by_sexnclass.columns = [\"Didn't Survive\", 'Survived']\n",
    "print grouping_by_sexnclass\n",
    "grouping_by_sexnclass.plot.barh(stacked=True, title=\"Survival by Sex and Class\", color=('r', 'g'))"
   ]
  },
  {
   "cell_type": "markdown",
   "metadata": {},
   "source": [
    "# Key Findings Summarized\n",
    "\n",
    "Based on this dataset, below subgroups had better chance of survival..\n",
    "* females passengers\n",
    "* class 1 passengers\n",
    "* children less then 10 years\n",
    "\n",
    "Below subgroups had lesser chance of survival...\n",
    "* male passengers\n",
    "* class 3 passengers\n",
    "* older passengers\n",
    "\n",
    "To summarize, sex, class and age had a major impact on whether the passenger survived the titanic sinking or not.\n",
    "However, these resu;ts are based on the data present and there are exceptions to these findings. There might be other factors impacting the survival outcome(like sheer tenacity of certain passengers).\n"
   ]
  },
  {
   "cell_type": "markdown",
   "metadata": {},
   "source": [
    "** Appendix **\n",
    "\n",
    "Below resources were referred as part of the analysis to get some background information\n",
    "1. https://www.kaggle.com/c/titanic/data\n",
    "2. Wikipedia"
   ]
  },
  {
   "cell_type": "code",
   "execution_count": null,
   "metadata": {
    "collapsed": true
   },
   "outputs": [],
   "source": []
  }
 ],
 "metadata": {
  "kernelspec": {
   "display_name": "Python 2",
   "language": "python",
   "name": "python2"
  },
  "language_info": {
   "codemirror_mode": {
    "name": "ipython",
    "version": 2
   },
   "file_extension": ".py",
   "mimetype": "text/x-python",
   "name": "python",
   "nbconvert_exporter": "python",
   "pygments_lexer": "ipython2",
   "version": "2.7.12"
  }
 },
 "nbformat": 4,
 "nbformat_minor": 0
}
